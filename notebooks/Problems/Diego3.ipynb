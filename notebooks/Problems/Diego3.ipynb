{
 "cells": [
  {
   "cell_type": "code",
   "execution_count": null,
   "metadata": {},
   "outputs": [],
   "source": [
    "#problem 3 sent by Evan Knox\n",
    "#The prime factors of 13195 are 5,7,13 and 29.\n",
    "#What is the largest prime factor of the number 600851475143"
   ]
  },
  {
   "cell_type": "code",
   "execution_count": 1,
   "metadata": {},
   "outputs": [
    {
     "name": "stdout",
     "output_type": "stream",
     "text": [
      "6857.0\n"
     ]
    }
   ],
   "source": [
    "import math\n",
    "largestprime = 600851475143\n",
    "i = 2\n",
    "while(i<=math.sqrt(largestprime)): \n",
    "    if(largestprime%i==0):\n",
    "        while(largestprime%i==0):\n",
    "            largestprime/=i;           \n",
    "        if(largestprime==1):\n",
    "            largestprime=i;\n",
    "            break;\n",
    "    else:      \n",
    "        i+= 1;        \n",
    "print(largestprime)"
   ]
  }
 ],
 "metadata": {
  "kernelspec": {
   "display_name": "Python 3",
   "language": "python",
   "name": "python3"
  },
  "language_info": {
   "codemirror_mode": {
    "name": "ipython",
    "version": 3
   },
   "file_extension": ".py",
   "mimetype": "text/x-python",
   "name": "python",
   "nbconvert_exporter": "python",
   "pygments_lexer": "ipython3",
   "version": "3.10.4"
  },
  "orig_nbformat": 4
 },
 "nbformat": 4,
 "nbformat_minor": 2
}
